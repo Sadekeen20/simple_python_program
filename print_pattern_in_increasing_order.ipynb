{
  "nbformat": 4,
  "nbformat_minor": 0,
  "metadata": {
    "colab": {
      "name": "print_pattern_in_increasing_order.ipynb",
      "provenance": []
    },
    "kernelspec": {
      "name": "python3",
      "display_name": "Python 3"
    },
    "language_info": {
      "name": "python"
    }
  },
  "cells": [
    {
      "cell_type": "code",
      "metadata": {
        "id": "1OPMxc2a5FTD"
      },
      "source": [
        "#print pattern in increasing order\n",
        "n=int(input(\"Insert number: \" ))\n",
        "for i in range(0, n):\n",
        "     \n",
        "        # inner loop to handle number of columns\n",
        "       \n",
        "        for j in range(0, i+1):\n",
        "         \n",
        "            # printing stars\n",
        "            print(\"* \",end=\"\")\n",
        "      \n",
        "        # ending line after each row\n",
        "        print(\"\\r\")\n"
      ],
      "execution_count": null,
      "outputs": []
    }
  ]
}