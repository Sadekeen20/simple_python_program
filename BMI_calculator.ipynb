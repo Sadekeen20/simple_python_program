{
  "nbformat": 4,
  "nbformat_minor": 0,
  "metadata": {
    "colab": {
      "name": "BMI calculator.ipynb",
      "provenance": [],
      "collapsed_sections": []
    },
    "kernelspec": {
      "name": "python3",
      "display_name": "Python 3"
    },
    "language_info": {
      "name": "python"
    }
  },
  "cells": [
    {
      "cell_type": "code",
      "metadata": {
        "colab": {
          "base_uri": "https://localhost:8080/"
        },
        "id": "0gyANlbsHMIg",
        "outputId": "13075fd7-de8c-4ca7-a70d-b7b3c489fba8"
      },
      "source": [
        "#input h and w \n",
        "h = float(input(\"Enter an Height in (m): \"))\n",
        "w = float(input(\"Enter an Weight in kg: \"))\n",
        "#print(\"Sum of a and b:\",a + b)\n",
        "BMI= w/(h*h)\n",
        "print(\"BMI is:\")\n",
        "print(BMI)\n",
        "if BMI <= 18.4:\n",
        "    print(\"You are underweight.\")\n",
        "elif BMI <= 24.9:\n",
        "    print(\"You are healthy.\")\n",
        "elif BMI <= 29.9:\n",
        "    print(\"You are over weight.\")\n",
        "elif BMI <= 34.9:\n",
        "    print(\"You are severely over weight.\")\n",
        "elif BMI <= 39.9:\n",
        "    print(\"You are obese.\")\n",
        "else:\n",
        "    print(\"You are severely obese.\")"
      ],
      "execution_count": 10,
      "outputs": [
        {
          "output_type": "stream",
          "name": "stdout",
          "text": [
            "Enter an Height in (m): 1.7\n",
            "Enter an Weight in kg: 75\n",
            "BMI is:\n",
            "25.95155709342561\n",
            "You are over weight.\n"
          ]
        }
      ]
    },
    {
      "cell_type": "code",
      "metadata": {
        "colab": {
          "base_uri": "https://localhost:8080/"
        },
        "id": "ZTEgzf1iY69t",
        "outputId": "27b26ba5-775b-4700-e42f-1b4115272fa3"
      },
      "source": [
        "#print pattern \n",
        "n=int(input(\"Insert number: \" ))\n",
        "for i in range(0, n):\n",
        "     \n",
        "        # inner loop to handle number of columns\n",
        "        # values changing acc. to outer loop\n",
        "        for j in range(0, i+1):\n",
        "         \n",
        "            # printing stars\n",
        "            print(\"* \",end=\"\")\n",
        "      \n",
        "        # ending line after each row\n",
        "        print(\"\\r\")\n"
      ],
      "execution_count": 21,
      "outputs": [
        {
          "output_type": "stream",
          "name": "stdout",
          "text": [
            "Insert number: 10\n",
            "* \n",
            "* * \n",
            "* * * \n",
            "* * * * \n",
            "* * * * * \n",
            "* * * * * * \n",
            "* * * * * * * \n",
            "* * * * * * * * \n",
            "* * * * * * * * * \n",
            "* * * * * * * * * * \n"
          ]
        }
      ]
    }
  ]
}